{
  "nbformat": 4,
  "nbformat_minor": 0,
  "metadata": {
    "colab": {
      "provenance": [],
      "gpuType": "T4"
    },
    "kernelspec": {
      "name": "python3",
      "display_name": "Python 3"
    },
    "language_info": {
      "name": "python"
    },
    "accelerator": "GPU"
  },
  "cells": [
    {
      "cell_type": "markdown",
      "source": [
        "# `NOTES`\n",
        "\n",
        "<hr>\n",
        "\n",
        "## Bit Depth\n",
        "* Every audio sensor has sth called a **bit depth**.  \n",
        "* Microphones usually have a bit depth of 16 .\n",
        "  i.e. If we look at the time domain of the signal, it can take on 2^16 diff integer values.  \n",
        "\n",
        "  <img src='https://www.dropbox.com/scl/fi/vh0chs7hiq9cljyvg6gd4/Freq-in-time-domain.png?rlkey=atg28wl1jswp0xt783qlpbnx2&st=6r0o1jor&raw=1' width=500>\n",
        "\n",
        "<hr>\n",
        "\n",
        "## Fourier Transform\n",
        "* If we look at the signal in time domain, we wouldnt understand what class of audio the signal belongs to.\n",
        "* Another way to look at the signal is by using **Fourier Transform**\n",
        "* It converts the time-domain input signal into a frequency-domain representation which can be analyzed for intensities of specific pitches.\n",
        "* We finna use the **Fast Fourier Transform** (FFT) to construct a diagram called **Periodogram**.\n",
        "* A periodogram is an estimate of the spectral density of a signal.\n",
        "* It plots the real value of the fourier transform ranging from **0 to 22 kHz**.\n",
        "* Why upto 22kHz?  \n",
        "  Cuz the audio is recorded at a rate of 44.1 kHz and the **Nyquist Frequency** of an audio signal is exactly half its actual frequency.  \n",
        "  Hence, the range of 22 kHz in the Periodogram. The sensor aint gon pick up the audio with frequency greater than 22 kHz.\n",
        "* This is absolutely fine cuz most of the magnitude (or Power Spectral Density Estimate in the Periodogram) for different frequency bands of an audio show changes at low frequencies.\n",
        "* So one preprocessing step could be to **down sample** audio frequency to 16 kHz. That gives the Nyquist frequency to 8 kHz.  \n",
        "The data starts becoming irrelevant after that point.  \n",
        "\n",
        "  <img src='https://www.dropbox.com/scl/fi/lk2od46bjis1pke7bei5w/Periodogram.png?rlkey=jp77t6icpbbj9qnlornrltohc&st=xz5k8m3a&raw=1' width=700>\n",
        "\n",
        "<hr>\n",
        "\n",
        "## Spectrogram\n",
        "* An spectrogram is just Periodograms stacked adjacent to each other over time.\n",
        "* For every 10th of a second, we finna create 4 Periodograms. Then we gon stack em with each other.  |\n",
        "  <img src='https://www.dropbox.com/scl/fi/y0pp20n6ifxef4tcbbgj3/Spectrogram.png?rlkey=tnjr2d8qf2z85ccd3e6ythplp&st=jr2pbjoo&raw=1' width=500>\n",
        "\n",
        "<hr>\n",
        "\n",
        "## Short Term Fourier Transform\n",
        "* We divide the down-sampled audio frequency into small static frames using a **sliding window**.\n",
        "* This sliding window moves forward in time through the down-sampled audio by a **step size** of say, 10ms.\n",
        "* Window length of 25ms and step size of 10ms is a standard.\n",
        "* To perform FFT to a sample of 2^n.\n",
        "* We finna use a bell-curve-shaped **hanning window** when computing FFT.\n",
        "* This is to reduce **spectral leakage**.\n",
        "\n",
        "  <img src='https://www.dropbox.com/scl/fi/gjrqcmxv2nc7zg2qqr475/STFT.png?rlkey=9zpakiv2e00qk0atjlnw4zsi5&st=juan4ug5&raw=1' width=500>\n",
        "\n",
        "<hr>\n",
        "\n",
        "## Why we gotta stack these small frames of data then put em next to each other?\n",
        "* In the Spectrogram, we observe these really cool contours as the windows overlap with the prev versions of themselves.\n",
        "* We get to see the singals change into diff frequency bands over time.\n",
        "  <img src='https://www.dropbox.com/scl/fi/ipl42r22mejzkxlibchsc/Sound-Contours.png?rlkey=61ymepjwvpdprudpy9645gupn&st=52ry0096&raw=1' width=500>\n",
        "\n",
        "<hr>\n",
        "\n",
        "## Mel Filterbank\n",
        "* We glorified primates cant comprehend freq at higher range ( > 15kHz).\n",
        "* Mel scales are used to perform **log transform on linear freq**.\n",
        "* We dont care about the changes at higher frequencies, but we do notice audio changes at lower frequencies.\n",
        "* Mel filterbanks are used to accurately represent what humans might consider important in an audio signal.\n",
        "* First, we create a filter bank with **26 filters**.\n",
        "* The spacing between the filter banks is based on the **mel scale**, M(f).\n",
        "* We get 26 triangular filters based on **power spectral density** (peaks / magnitude) of each audio.\n",
        "  <img src='https://www.dropbox.com/scl/fi/cwlmebpc0rmmkr118izp6/Mel-Filterbank.png?rlkey=fxguknr9guqv85bql49jlw7b3&st=5b4um6l7&raw=1' width=700>\n",
        "\n",
        "<hr>\n",
        "\n",
        "## Feature Engineering (DCT & MFCC)\n",
        "* Dimension of the data: 26x99.  \n",
        "  where, 26: filter banks & 99: for one sec of data (actually 100)\n",
        "* Now we perform **Discrete Cosine Transform** (DCT).\n",
        "* It is used in **audio & image compression** and acts as a **low pass filter**.\n",
        "* This is done to remove high frequency content.\n",
        "* All the info is compacted down to lower frequencies.\n",
        "* The final feature (output) is called **Mel-Frequency Cepstral Coefficient** (MFCC).\n",
        "* After compacting the data using DCT,  \n",
        "  Dimension of the data: **13x99**.\n",
        "\n",
        "  <img src='https://www.dropbox.com/scl/fi/b323y1ca0v7bq8543e586/Feature-Engineering.png?rlkey=5g3vl14ax8pyoiles5261t2ow&st=egoaeea0&raw=1' width=700>\n",
        "\n",
        "<hr>\n"
      ],
      "metadata": {
        "id": "3dc5S2FhdPy5"
      }
    },
    {
      "cell_type": "markdown",
      "source": [
        "**Additional stuffs to study**  \n",
        "http://practicalcryptography.com/miscellaneous/machine-learning/guide-mel-frequency-cepstral-coefficients-mfccs/  \n",
        "\n",
        "https://haythamfayek.com/2016/04/21/speech-processing-for-machine-learning.html  \n",
        "\n",
        "http://datagenetics.com/blog/november32012/index.html"
      ],
      "metadata": {
        "id": "ZZM4TG_XyQXG"
      }
    }
  ]
}